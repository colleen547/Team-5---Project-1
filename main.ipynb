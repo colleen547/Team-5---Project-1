{
 "cells": [
  {
   "cell_type": "code",
   "execution_count": null,
   "metadata": {},
   "outputs": [],
   "source": [
    "# Dependencies and Setup\n",
    "# Dependencies and Setup\n",
    "import pandas as pd\n",
    "import numpy as np\n",
    "import matplotlib\n",
    "import matplotlib.pyplot as plt\n",
    "import scipy.stats as st\n",
    "import os\n",
    "from config import destination_zip, col_types"
   ]
  },
  {
   "cell_type": "code",
   "execution_count": null,
   "metadata": {},
   "outputs": [],
   "source": [
    "# read csv in zip pandas automatically selects the csv residing within the zip\n",
    "accidents_df = pd.read_csv(destination_zip, \n",
    "                           usecols=col_types.keys(), \n",
    "                           dtype=col_types, \n",
    "                           parse_dates=['Start_Time'],\n",
    "                           infer_datetime_format=True)\n",
    "\n",
    "accidents_df.head()"
   ]
  },
  {
   "cell_type": "code",
   "execution_count": null,
   "metadata": {},
   "outputs": [],
   "source": [
    "# Chris's code starts here"
   ]
  },
  {
   "cell_type": "code",
   "execution_count": null,
   "metadata": {
    "scrolled": true
   },
   "outputs": [],
   "source": [
    "#Isolate Start Time and sort by day of week\n",
    "accidents_df[\"Start_Time\"].dt.dayofweek.value_counts()"
   ]
  },
  {
   "cell_type": "code",
   "execution_count": null,
   "metadata": {},
   "outputs": [],
   "source": [
    "#Create DataFrame to store number of accidents per day of week\n",
    "week_days_df = pd.DataFrame(accidents_df['Start_Time'].dt.dayofweek.value_counts())\n",
    "week_days_df.sort_index(inplace=True)\n",
    "week_days_df.set_index(pd.Index(['Monday', 'Tuesday', 'Wednesday', 'Thursday', 'Friday', 'Saturday', 'Sunday']), inplace=True)\n",
    "week_days_df"
   ]
  },
  {
   "cell_type": "code",
   "execution_count": null,
   "metadata": {
    "scrolled": true
   },
   "outputs": [],
   "source": [
    "#Create bargraph from DataFrame\n",
    "plotdata = week_days_df.plot.bar(rot=\"vertical\", title=\"Number of Accidents by Day of Week\", legend=False)\n",
    "plotdata.set_ylabel(\"Number of Accidents\")"
   ]
  },
  {
   "cell_type": "code",
   "execution_count": null,
   "metadata": {},
   "outputs": [],
   "source": [
    "#Make a DataFrame to track on severity of crash by day of week\n",
    "daysofweek = ['Monday', 'Tuesday', 'Wednesday', 'Thursday', 'Friday', 'Saturday', 'Sunday']\n",
    "severity_values = [1, 2, 3, 4]\n",
    "days = daysofweek * len(severity_values)\n",
    "severity = np.repeat(severity_values,len(daysofweek))\n",
    "severity_df = pd.DataFrame(zip(severity, days), columns=['Severity', 'Days'])\n",
    "vals = []\n",
    "for index, row in severity_df.iterrows():\n",
    "    vals.append(accidents_df[(accidents_df['Severity'] == row['Severity']) & (accidents_df['Start_Time'].dt.dayofweek == daysofweek.index(row['Days']))]['ID'].count())\n",
    "severity_df.insert(2, 'Value', vals)\n",
    "severity_df"
   ]
  },
  {
   "cell_type": "code",
   "execution_count": null,
   "metadata": {},
   "outputs": [],
   "source": [
    "#Define the summary table\n",
    "pivot_df = severity_df.pivot(index='Days', columns='Severity', values='Value')\n",
    "pivot_df = pivot_df.loc[daysofweek]\n",
    "pivot_df"
   ]
  },
  {
   "cell_type": "code",
   "execution_count": null,
   "metadata": {},
   "outputs": [],
   "source": [
    "severities = [1, 2, 3, 4]\n",
    "pivot_df.loc[:,severities].plot.bar(stacked=True, figsize=(10,7))\n",
    "plt.title(\"Severity of Crashes by Day of Week\")\n",
    "plt.ylabel(\"Number of Crashes\")"
   ]
  },
  {
   "cell_type": "code",
   "execution_count": null,
   "metadata": {},
   "outputs": [],
   "source": [
    "# Chris's code ends here"
   ]
  },
  {
   "cell_type": "code",
   "execution_count": null,
   "metadata": {},
   "outputs": [],
   "source": [
    "# Colleen's code starts here"
   ]
  },
  {
   "cell_type": "code",
   "execution_count": null,
   "metadata": {},
   "outputs": [],
   "source": [
    "# Colleen's code ends here"
   ]
  },
  {
   "cell_type": "code",
   "execution_count": null,
   "metadata": {},
   "outputs": [],
   "source": [
    "# Ken's code starts here\n",
    "#Grouping Data Into Seasons\n",
    "# In order to group dates into seasons, we need to define seasons then group the dates into seasons column using  Meteorological seasons classifications for northern hemisphere\n",
    "#Spring runs from March 1 to May 31;\n",
    "#Summer runs from June 1 to Aug.31;\n",
    "#Fall (Autumn) runs from September 1st thru Nov.30th and\n",
    "#Winter runs from December 1 to 28 Feb\n",
    "\n",
    "\n",
    "month_seasons = {1: 'winter',\n",
    "                 2: 'winter',\n",
    "                 3: 'spring',\n",
    "                 4: 'spring',\n",
    "                 5: 'spring',\n",
    "                 6: 'summer',\n",
    "                 7: 'summer',\n",
    "                 8: 'summer',\n",
    "                 9: 'fall',\n",
    "                 10: 'fall',\n",
    "                 11: 'fall',\n",
    "                 12: 'winter'}\n",
    "\n",
    "accidents_df['seasons'] = pd.to_datetime(accidents_df['Start_Time']).dt.month.map(month_seasons)\n",
    "accidents_df.tail(50000)"
   ]
  },
  {
   "cell_type": "code",
   "execution_count": null,
   "metadata": {},
   "outputs": [],
   "source": [
    "#Create DataFrame to group number of accidents per season\n",
    "# separate season data into bins\n",
    "# Create Two bins for 'Winter' for being both at the beginning and end of the year.\n",
    "\n",
    "season_group = accidents_df.groupby(['seasons'])\n",
    "\n",
    "\n",
    "season_group = season_group['ID'].count().plot.bar(rot=\"vertical\", title=\"Number of Accidents by season\", legend=False)\n",
    "season_group.set_ylabel(\"Number of Accidents\")\n",
    "\n",
    "\n",
    "\n"
   ]
  },
  {
   "cell_type": "code",
   "execution_count": null,
   "metadata": {},
   "outputs": [],
   "source": [
    "# Ken's code ends here"
   ]
  },
  {
   "cell_type": "code",
   "execution_count": null,
   "metadata": {},
   "outputs": [],
   "source": [
    "# Eric's code starts here"
   ]
  },
  {
   "cell_type": "markdown",
   "metadata": {},
   "source": [
    "# Hypothesis Testing\n",
    "***\n",
    "__Our Hypothesis:__\n",
    "> The number of accidents differ per season.\n",
    "\n",
    "__Null Hypothesis:__\n",
    "> The occurrence of accidents are distributed equally across seasons. \n",
    "\n",
    "***\n",
    "We start by getting the counts of accidents in each season"
   ]
  },
  {
   "cell_type": "code",
   "execution_count": null,
   "metadata": {},
   "outputs": [],
   "source": [
    "fall = {'Fall': accidents_df[accidents_df['seasons'] == 'fall'].count()}\n",
    "winter = {'Winter': accidents_df[accidents_df['seasons'] == 'winter'].count()}\n",
    "spring = {'Spring': accidents_df[accidents_df['seasons'] == 'spring'].count()}\n",
    "summer = {'Summer': accidents_df[accidents_df['seasons'] == 'summer'].count()}\n",
    "all_seasons = [fall, winter, spring, summer]"
   ]
  },
  {
   "cell_type": "markdown",
   "metadata": {},
   "source": [
    "## ANOVA Test\n",
    "***\n",
    "The ANOVA test is utilized as a starting point simply to see if there's any statistically significant <br>differences between the seasons. If the $p-value>0.05$, we can stop looking at seasonal differences."
   ]
  },
  {
   "cell_type": "code",
   "execution_count": null,
   "metadata": {},
   "outputs": [],
   "source": [
    "four_sesaon_anova = st.f_oneway(fall['Fall'], winter['Winter'], spring['Spring'], summer['Summer'])[1]\n",
    "print(f\"ANOVA p-value for all four seasons: {four_sesaon_anova}\")"
   ]
  },
  {
   "cell_type": "markdown",
   "metadata": {},
   "source": [
    "## Further Testing\n",
    "***\n",
    "The $p-value$ for comparing all four seasons is $1.37e^{-129}$ <br>Clearly, this is far less than $0.05$, indicating a need for further testing.\n",
    "***"
   ]
  },
  {
   "cell_type": "code",
   "execution_count": null,
   "metadata": {},
   "outputs": [],
   "source": [
    "p_values = []\n",
    "\n",
    "# Loop through all combinations of seasons\n",
    "for season in all_seasons:\n",
    "    season_name = [*season][0]\n",
    "    for otherseason in [val for val in all_seasons if val.keys() != season.keys()]:\n",
    "        otherseason_name = [*otherseason][0]\n",
    "        # run the ANOVA test\n",
    "        p_values.append(st.f_oneway(season[season_name], otherseason[otherseason_name])[1])\n",
    "        \n",
    "        print(f\"\"\"ANOVA test between {season_name} and {otherseason_name}\n",
    "        P Value: {p_values[-1]}\"\"\")\n",
    "print(f\"\\nThe largest p-value between seasons is {max(p_values)}\")"
   ]
  },
  {
   "cell_type": "markdown",
   "metadata": {},
   "source": [
    "## Conclusion\n",
    "***\n",
    "The largest $p-value$ from any combination of seasons is $4.60e^{-48}$, which is still far smaller than $0.05$ <br> Based on these results, we can confidently reject the null hypothesis of all seasonal accidents being distributed equally, "
   ]
  },
  {
   "cell_type": "code",
   "execution_count": null,
   "metadata": {},
   "outputs": [],
   "source": [
    "# Eric's code ends here"
   ]
  }
 ],
 "metadata": {
  "kernelspec": {
   "display_name": "Python 3",
   "language": "python",
   "name": "python3"
  },
  "language_info": {
   "codemirror_mode": {
    "name": "ipython",
    "version": 3
   },
   "file_extension": ".py",
   "mimetype": "text/x-python",
   "name": "python",
   "nbconvert_exporter": "python",
   "pygments_lexer": "ipython3",
   "version": "3.6.10"
  }
 },
 "nbformat": 4,
 "nbformat_minor": 4
}
