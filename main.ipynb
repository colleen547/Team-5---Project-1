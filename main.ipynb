{
 "cells": [
  {
   "cell_type": "markdown",
   "metadata": {},
   "source": [
    "# Team-5---Project-1\n",
    "***\n",
    "For our project, we investigated traffic accidents and the circumstances surrounding them.\n",
    "\n",
    "Our data was obtained from __[Kaggle](https://www.kaggle.com/sobhanmoosavi/us-accidents)__\n",
    "\n",
    "## Team Members:\n",
    "***\n",
    "Chris Hauck, Colleen Banzhof, Ken Njema, and Eric Lewiston"
   ]
  },
  {
   "cell_type": "markdown",
   "metadata": {},
   "source": [
    "# Dependencies and Setup\n",
    "***"
   ]
  },
  {
   "cell_type": "code",
   "execution_count": null,
   "metadata": {},
   "outputs": [],
   "source": [
    "import pandas as pd\n",
    "import numpy as np\n",
    "import matplotlib.pyplot as plt\n",
    "import scipy.stats as st\n",
    "import seaborn as sns\n",
    "\n",
    "# config is python file with shared variables between Clean_Data.ipynb and main.ipynb\n",
    "from config import destination_zip, col_types"
   ]
  },
  {
   "cell_type": "markdown",
   "metadata": {},
   "source": [
    "# Global Plot Style Settings\n",
    "***"
   ]
  },
  {
   "cell_type": "code",
   "execution_count": null,
   "metadata": {},
   "outputs": [],
   "source": [
    "# plot options and style\n",
    "sns.set_style('whitegrid')\n",
    "# stacked bar chart colors\n",
    "colors = (\"#74C476\", \"#4DA75D\", \"#278A45\", \"#006D2C\")\n",
    "\n",
    "def set_chart_style(ax, title=None, ylabel=None, xlabel=None):\n",
    "    \"\"\"Returns the ax object with the following plt and ax settings applied\"\"\"\n",
    "    plt.xticks(rotation=45)\n",
    "    plt.grid(color='#95a5a6', linestyle='--', linewidth=1, axis='y', alpha=0.7)\n",
    "    ax.set_facecolor('ivory')\n",
    "    plt.figure(figsize=(18, 16))\n",
    "    if title is not None:\n",
    "        ax.set_title(title, fontsize=14, fontweight=\"bold\")\n",
    "    if ylabel is not None:\n",
    "        ax.set_ylabel(ylabel, fontweight=\"bold\")\n",
    "    if xlabel is not None:\n",
    "        ax.set_xlabel(xlabel, fontweight=\"bold\")\n",
    "    return ax"
   ]
  },
  {
   "cell_type": "markdown",
   "metadata": {},
   "source": [
    "# Read CSV\n",
    "***\n",
    "* ID: \n",
    "    * This is a unique identifier of the accident record.\n",
    "* Severity:\n",
    "    * Shows the severity of the accident, a number between 1 and 4, where 1 indicates the least impact on traffic (i.e., short delay as a result of the accident) and 4 indicates a significant impact on traffic (i.e., long delay).\n",
    "* Start_Time:\n",
    "    * Shows start time of the accident in local time zone."
   ]
  },
  {
   "cell_type": "code",
   "execution_count": null,
   "metadata": {},
   "outputs": [],
   "source": [
    "# read csv in zip pandas automatically selects the csv residing within the zip\n",
    "accidents_df = pd.read_csv(destination_zip, \n",
    "                           usecols=col_types.keys(), \n",
    "                           dtype=col_types, \n",
    "                           parse_dates=['Start_Time'],\n",
    "                           infer_datetime_format=True)\n",
    "\n",
    "accidents_df.head()"
   ]
  },
  {
   "cell_type": "markdown",
   "metadata": {},
   "source": [
    "# Define general shared variables\n",
    "***"
   ]
  },
  {
   "cell_type": "code",
   "execution_count": null,
   "metadata": {},
   "outputs": [],
   "source": [
    "days_of_week = ['Monday', 'Tuesday', 'Wednesday', 'Thursday', 'Friday', 'Saturday', 'Sunday']\n",
    "severity_values = [1, 2, 3, 4]\n",
    "month_seasons = {\n",
    "    12: 'winter', 1: 'winter', 2: 'winter',\n",
    "    3: 'spring', 4: 'spring', 5: 'spring',\n",
    "    6: 'summer', 7: 'summer', 8: 'summer',\n",
    "    9: 'fall', 10: 'fall', 11: 'fall'\n",
    "}\n",
    "season_order = ['fall', 'winter', 'spring', 'summer']"
   ]
  },
  {
   "cell_type": "markdown",
   "metadata": {},
   "source": [
    "# Accidents and Severity vs. Season\n",
    "***"
   ]
  },
  {
   "cell_type": "code",
   "execution_count": null,
   "metadata": {},
   "outputs": [],
   "source": [
    "# Ken's code starts here\n",
    "\n",
    "#Grouping Data Into Seasons\n",
    "# In order to group dates into seasons, we need to define seasons then group the dates into seasons column using  Meteorological seasons classifications for northern hemisphere\n",
    "#Spring runs from March 1 to May 31;\n",
    "#Summer runs from June 1 to Aug.31;\n",
    "#Fall (Autumn) runs from September 1st thru Nov.30th and\n",
    "#Winter runs from December 1 to 28 Feb\n",
    "\n",
    "accidents_df['seasons'] = pd.to_datetime(accidents_df['Start_Time']).dt.month.map(month_seasons)\n",
    "accidents_df.tail(50000)"
   ]
  },
  {
   "cell_type": "code",
   "execution_count": null,
   "metadata": {
    "scrolled": false
   },
   "outputs": [],
   "source": [
    "# Sort  Accidents into seasons \n",
    "\n",
    "# group by seasons, get count of ID (really just the accident count per season)\n",
    "season_group = accidents_df.groupby(['seasons'])['ID'].count().reset_index()\n",
    "\n",
    "# order values based on column season, and season_order\n",
    "season_group = season_group.set_index('seasons').loc[season_order]\n",
    "\n",
    "# plot bar chart\n",
    "season_accidents = season_group.plot.bar(legend=False)\n",
    "season_accidents = set_chart_style(season_accidents, title=\"Number of Accidents by season\", ylabel=\"Number of Accidents\", xlabel=\"Seasons\")"
   ]
  },
  {
   "cell_type": "code",
   "execution_count": null,
   "metadata": {},
   "outputs": [],
   "source": [
    "# convert the value counts back into a dataframe\n",
    "# group by seasons and severity, get value counts, turn back into data frame\n",
    "seasons=pd.DataFrame(accidents_df.groupby(['seasons'])['Severity'].value_counts())\n",
    "# sort by severity\n",
    "seasons.sort_index(inplace=True)\n",
    "\n",
    "# using reset_index, change season/severity from idices to columns\n",
    "seasons = seasons.rename(columns={'Severity': 'Accidents'}).reset_index()\n",
    "\n",
    "seasons"
   ]
  },
  {
   "cell_type": "code",
   "execution_count": null,
   "metadata": {},
   "outputs": [],
   "source": [
    "# create pivot table from above dataframe\n",
    "season_pivot = seasons.pivot(index='seasons', columns='Severity', values='Accidents')\n",
    "\n",
    "# order values based on column season, and season_order\n",
    "# season_pivot = season_pivot.set_index('seasons').loc[season_order]\n",
    "\n",
    "season_pivot"
   ]
  },
  {
   "cell_type": "code",
   "execution_count": null,
   "metadata": {},
   "outputs": [],
   "source": [
    "# Stacked Bar Chart\n",
    "season_pivot_stacked = season_pivot.plot(kind= 'bar',stacked=True, color=colors)\n",
    "\n",
    "plt.legend(loc='best')\n",
    "season_pivot_stacked = set_chart_style(season_pivot_stacked, title=\"Severity Of Accidents By Season\", ylabel=\"Number of Accidents\", xlabel=\"Seasons\")\n",
    "\n",
    "# Ken's code ends here"
   ]
  },
  {
   "cell_type": "markdown",
   "metadata": {},
   "source": [
    "# Accidents and Severity vs. Day of the Week\n",
    "***"
   ]
  },
  {
   "cell_type": "code",
   "execution_count": null,
   "metadata": {},
   "outputs": [],
   "source": [
    "# Chris's code starts here"
   ]
  },
  {
   "cell_type": "code",
   "execution_count": null,
   "metadata": {},
   "outputs": [],
   "source": [
    "#Create DataFrame to store number of accidents per day of week\n",
    "week_days_df = pd.DataFrame(accidents_df['Start_Time'].dt.dayofweek.value_counts())\n",
    "# Sort days of the week from 0-6\n",
    "week_days_df.sort_index(inplace=True)\n",
    "# Replace day of week number with value from days_of_week list\n",
    "week_days_df.set_index(pd.Index(days_of_week), inplace=True)\n",
    "week_days_df"
   ]
  },
  {
   "cell_type": "code",
   "execution_count": null,
   "metadata": {},
   "outputs": [],
   "source": [
    "#Create bargraph from DataFrame\n",
    "plotdata = week_days_df.plot.bar(legend=False)\n",
    "plotdata = set_chart_style(plotdata, title=\"Number of Accidents by Day of Week\", ylabel=\"Number of Accidents\", xlabel=\"Days\")"
   ]
  },
  {
   "cell_type": "code",
   "execution_count": null,
   "metadata": {},
   "outputs": [],
   "source": [
    "#Make a DataFrame to track on severity of crash by day of week\n",
    "# Set up dataframe for pivot table with all severity/day combinations\n",
    "days = days_of_week * len(severity_values)\n",
    "severity = np.repeat(severity_values,len(days_of_week))\n",
    "severity_df = pd.DataFrame(zip(severity, days), columns=['Severity', 'Days'])\n",
    "\n",
    "# Get count of accidents for each severity/day combinations \n",
    "vals = []\n",
    "for index, row in severity_df.iterrows():\n",
    "    vals.append(accidents_df[(accidents_df['Severity'] == row['Severity']) & (accidents_df['Start_Time'].dt.dayofweek == days_of_week.index(row['Days']))]['ID'].count())\n",
    "severity_df.insert(2, 'Value', vals)\n",
    "severity_df"
   ]
  },
  {
   "cell_type": "code",
   "execution_count": null,
   "metadata": {
    "scrolled": true
   },
   "outputs": [],
   "source": [
    "#Define the summary table\n",
    "pivot_df = severity_df.pivot(index='Days', columns='Severity', values='Value')\n",
    "# Sort by days_of_week\n",
    "pivot_df = pivot_df.loc[days_of_week]\n",
    "pivot_df"
   ]
  },
  {
   "cell_type": "code",
   "execution_count": null,
   "metadata": {
    "scrolled": false
   },
   "outputs": [],
   "source": [
    "# Create stacked bar chart\n",
    "pivot_df_plot = pivot_df.plot.bar(stacked=True, color = colors)\n",
    "pivot_df_plot = set_chart_style(pivot_df_plot, title=\"Severity of Crashes by Day of Week\", ylabel=\"Number of Crashes\", xlabel=\"Days\")"
   ]
  },
  {
   "cell_type": "code",
   "execution_count": null,
   "metadata": {},
   "outputs": [],
   "source": [
    "# Chris's code ends here"
   ]
  },
  {
   "cell_type": "markdown",
   "metadata": {},
   "source": [
    "# Accidents and Severity vs. Time of Day\n",
    "***"
   ]
  },
  {
   "cell_type": "code",
   "execution_count": null,
   "metadata": {},
   "outputs": [],
   "source": [
    "# Colleen's code starts here"
   ]
  },
  {
   "cell_type": "code",
   "execution_count": null,
   "metadata": {},
   "outputs": [],
   "source": [
    "# TIME QUESTION 1: Does the time of day (early morning, rush hour, late night) affect NUMBER of accidents?"
   ]
  },
  {
   "cell_type": "code",
   "execution_count": null,
   "metadata": {},
   "outputs": [],
   "source": [
    "# Add a new column to the original DataFrame to parse out hours only from Start_Time column\n",
    "accidents_df['Hour'] = accidents_df['Start_Time'].dt.hour\n",
    "accidents_df.head()"
   ]
  },
  {
   "cell_type": "code",
   "execution_count": null,
   "metadata": {},
   "outputs": [],
   "source": [
    "#Create a dataframe to store number of accidents per hour of the day\n",
    "accidents_per_hour = pd.DataFrame(accidents_df['Hour'].value_counts())\n",
    "accidents_per_hour.sort_index(inplace=True)\n",
    "accidents_per_hour"
   ]
  },
  {
   "cell_type": "code",
   "execution_count": null,
   "metadata": {},
   "outputs": [],
   "source": [
    "# TIME QUESTION 1 - VISUALIZATION: \n",
    "# Create a graph to show total # of accidents in 1 hour increments over 24 hrs timeframe\n",
    "#     What time of day do most accidents occur?\n",
    "#     How does this help identify time periods such as AM/PM rush hours?\n",
    "\n",
    "plotdata1 = accidents_per_hour.plot.bar(legend=False)\n",
    "plotdata1 = set_chart_style(plotdata1, title=\"Total Accidents per Hour\", ylabel=\"Number of Accidents\", xlabel=\"Hour of the Day (military time)\")"
   ]
  },
  {
   "cell_type": "code",
   "execution_count": null,
   "metadata": {},
   "outputs": [],
   "source": [
    "# TIME QUESTION 2: Does the time of day (early morning, rush hour, late night) affect SEVERITY of accidents?"
   ]
  },
  {
   "cell_type": "code",
   "execution_count": null,
   "metadata": {},
   "outputs": [],
   "source": [
    "# Group Data Into Time Periods\n",
    "# In order to group accidents into time periods, we need to define time periods based on the above analysis.\n",
    "# Early Morning: 0,1,2,3,4,5\n",
    "# AM Rush Hour: 6,7,8,9\n",
    "# Mid Day: 10,11,12,13,14\n",
    "# PM Rush Hour: 15,16,17,18\n",
    "# Late Evening: 19,20,21,22,23\n",
    "\n",
    "# Establish bins for time periods\n",
    "bins = [0,6,10,15,19,24]\n",
    "    \n",
    "# Create the names for the time period bins\n",
    "time_period = [\"Early Morning\", \"AM Rush Hour\", \"Mid Day\", \"PM Rush Hour\", \"Late Evening\"]\n",
    "\n",
    "# Categorize the hours of the day using the time period bins and pd.cut()\n",
    "accidents_df[\"Time Period\"]=pd.cut(accidents_df[\"Hour\"],bins,labels=time_period)\n",
    "\n",
    "#Display Time Periods Table\n",
    "accidents_df"
   ]
  },
  {
   "cell_type": "code",
   "execution_count": null,
   "metadata": {},
   "outputs": [],
   "source": [
    "# Sense check count by type and sum of severtiy of accidents\n",
    "accidents_per_hour = pd.DataFrame(accidents_df['Severity'].value_counts())\n",
    "accidents_per_hour"
   ]
  },
  {
   "cell_type": "code",
   "execution_count": null,
   "metadata": {},
   "outputs": [],
   "source": [
    "# TIME QUESTION 2 - VISUALIZATION:\n",
    "# Create a bar graph that shows severity ranking of accidents during peak timeframes \n",
    "#   (in other words, during peak accident times (ie. rush hours) when are the most severe accidents likely to occur?)\n",
    "\n",
    "# Sort by Time Period and Severity, get value counts, convert back into a dataframe\n",
    "time_period=pd.DataFrame(accidents_df.groupby(['Time Period'])['Severity'].value_counts())\n",
    "\n",
    "# Sort by severity\n",
    "time_period.sort_index(inplace=True)\n",
    "\n",
    "# Rename value counts, because the index and column had conflicting names. Reset_index pushes the indices into columns\n",
    "time_period = time_period.rename(columns={'Severity': 'Accidents'}).reset_index()\n",
    "\n",
    "# Turn into a pivot table\n",
    "time_period_pivot = time_period.pivot(index='Time Period', columns='Severity', values='Accidents')\n",
    "\n",
    "# Create a graph using the time period pivot table\n",
    "time_period_stacked = time_period_pivot.plot.bar(stacked=True, color=colors)\n",
    "time_period_stacked = set_chart_style(time_period_stacked, title=\"Accident Severity by Time Period\", ylabel=\"Number of Accidents by Severity\", xlabel=\"Hour of the Day (military time)\")"
   ]
  },
  {
   "cell_type": "code",
   "execution_count": null,
   "metadata": {},
   "outputs": [],
   "source": [
    "# Colleen's code ends here"
   ]
  },
  {
   "cell_type": "code",
   "execution_count": null,
   "metadata": {},
   "outputs": [],
   "source": [
    "# Eric's code starts here"
   ]
  },
  {
   "cell_type": "markdown",
   "metadata": {},
   "source": [
    "# Hypothesis Testing\n",
    "***\n",
    "__Our Hypothesis:__\n",
    "> The number of accidents differ per season.\n",
    "\n",
    "__Null Hypothesis:__\n",
    "> The occurrence of accidents are distributed equally across seasons. \n",
    "\n",
    "***\n",
    "We start by getting the counts of accidents in each season"
   ]
  },
  {
   "cell_type": "code",
   "execution_count": null,
   "metadata": {},
   "outputs": [],
   "source": [
    "fall = {'Fall': accidents_df[accidents_df['seasons'] == 'fall'].count()}\n",
    "winter = {'Winter': accidents_df[accidents_df['seasons'] == 'winter'].count()}\n",
    "spring = {'Spring': accidents_df[accidents_df['seasons'] == 'spring'].count()}\n",
    "summer = {'Summer': accidents_df[accidents_df['seasons'] == 'summer'].count()}\n",
    "all_seasons = [fall, winter, spring, summer]"
   ]
  },
  {
   "cell_type": "markdown",
   "metadata": {},
   "source": [
    "## ANOVA Test\n",
    "***\n",
    "The ANOVA test is utilized as a starting point simply to see if there's any statistically significant <br>differences between the seasons. If the $p-value>0.05$, we can stop looking at seasonal differences."
   ]
  },
  {
   "cell_type": "code",
   "execution_count": null,
   "metadata": {},
   "outputs": [],
   "source": [
    "four_sesaon_anova = st.f_oneway(fall['Fall'], winter['Winter'], spring['Spring'], summer['Summer'])[1]\n",
    "print(f\"ANOVA p-value for all four seasons: {four_sesaon_anova}\")"
   ]
  },
  {
   "cell_type": "markdown",
   "metadata": {},
   "source": [
    "## Further Testing\n",
    "***\n",
    "The $p-value$ for comparing all four seasons is $3.62e^{-34}$ <br>Clearly, this is far less than $0.05$, indicating a need for further testing.\n",
    "***"
   ]
  },
  {
   "cell_type": "code",
   "execution_count": null,
   "metadata": {},
   "outputs": [],
   "source": [
    "p_values = []\n",
    "\n",
    "# Loop through all combinations of seasons\n",
    "for season in all_seasons:\n",
    "    season_name = [*season][0]\n",
    "    for otherseason in [val for val in all_seasons if val.keys() != season.keys()]:\n",
    "        otherseason_name = [*otherseason][0]\n",
    "        # run the ANOVA test on each season pair\n",
    "        p_values.append(st.f_oneway(season[season_name], otherseason[otherseason_name])[1])\n",
    "        \n",
    "        print(f\"\"\"ANOVA test between {season_name} and {otherseason_name}\n",
    "        P Value: {p_values[-1]}\"\"\")\n",
    "print(f\"\\nThe largest p-value between seasons is {max(p_values)}\")"
   ]
  },
  {
   "cell_type": "markdown",
   "metadata": {},
   "source": [
    "## Conclusion\n",
    "***\n",
    "The largest $p-value$ from any combination of seasons is $3.65e^{-9}$, which is still far smaller than $0.05$ <br> Based on these results, we can confidently reject the null hypothesis of all seasonal accidents being distributed equally, "
   ]
  },
  {
   "cell_type": "code",
   "execution_count": null,
   "metadata": {},
   "outputs": [],
   "source": []
  }
 ],
 "metadata": {
  "kernelspec": {
   "display_name": "Python 3",
   "language": "python",
   "name": "python3"
  },
  "language_info": {
   "codemirror_mode": {
    "name": "ipython",
    "version": 3
   },
   "file_extension": ".py",
   "mimetype": "text/x-python",
   "name": "python",
   "nbconvert_exporter": "python",
   "pygments_lexer": "ipython3",
   "version": "3.6.10"
  }
 },
 "nbformat": 4,
 "nbformat_minor": 4
}
