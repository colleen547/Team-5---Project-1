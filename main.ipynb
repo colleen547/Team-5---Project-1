{
 "cells": [
  {
   "cell_type": "code",
   "execution_count": null,
   "metadata": {},
   "outputs": [],
   "source": [
    "# Dependencies and Setup\n",
    "# Dependencies and Setup\n",
    "import pandas as pd\n",
    "import numpy as np\n",
    "import matplotlib.pyplot as plt\n",
    "import scipy.stats as st\n",
    "import os\n",
    "from config import destination_zip, col_types"
   ]
  },
  {
   "cell_type": "code",
   "execution_count": null,
   "metadata": {},
   "outputs": [],
   "source": [
    "# read csv in zip pandas automatically selects the csv residing within the zip\n",
    "accidents_df = pd.read_csv(destination_zip, \n",
    "                           usecols=col_types.keys(), \n",
    "                           dtype=col_types, \n",
    "                           parse_dates=['Start_Time'],\n",
    "                           infer_datetime_format=True)\n",
    "\n",
    "accidents_df.head()"
   ]
  },
  {
   "cell_type": "code",
   "execution_count": null,
   "metadata": {},
   "outputs": [],
   "source": [
    "# Chris's code starts here"
   ]
  },
  {
   "cell_type": "code",
   "execution_count": null,
   "metadata": {
    "scrolled": true
   },
   "outputs": [],
   "source": [
    "#Isolate Start Time and sort by day of week\n",
    "accidents_df[\"Start_Time\"].dt.dayofweek.value_counts()"
   ]
  },
  {
   "cell_type": "code",
   "execution_count": null,
   "metadata": {},
   "outputs": [],
   "source": [
    "#Create DataFrame to store number of accidents per day of week\n",
    "week_days_df = pd.DataFrame(accidents_df['Start_Time'].dt.dayofweek.value_counts())\n",
    "week_days_df.sort_index(inplace=True)\n",
    "week_days_df.set_index(pd.Index(['Monday', 'Tuesday', 'Wednesday', 'Thursday', 'Friday', 'Saturday', 'Sunday']), inplace=True)\n",
    "week_days_df"
   ]
  },
  {
   "cell_type": "code",
   "execution_count": null,
   "metadata": {
    "scrolled": true
   },
   "outputs": [],
   "source": [
    "plotdata = week_days_df.plot.bar(rot=\"vertical\", title=\"Number of Accidents by Day of Week\", legend=False)\n",
    "plotdata.set_ylabel(\"Number of Accidents\")"
   ]
  },
  {
   "cell_type": "code",
   "execution_count": null,
   "metadata": {},
   "outputs": [],
   "source": [
    "# Chris's code ends here"
   ]
  },
  {
   "cell_type": "code",
   "execution_count": null,
   "metadata": {},
   "outputs": [],
   "source": [
    "# Colleen's code starts here"
   ]
  },
  {
   "cell_type": "code",
   "execution_count": null,
   "metadata": {},
   "outputs": [],
   "source": [
    "# Colleen's code ends here"
   ]
  },
  {
   "cell_type": "code",
   "execution_count": null,
   "metadata": {},
   "outputs": [],
   "source": [
    "# Ken's code starts here\n",
    "#Grouping Data Into Seasons\n",
    "# In order to group dates into seasons, we need to define seasons then group the dates into seasons column using  Meteorological seasons classifications for northern hemisphere\n",
    "#Spring runs from March 1 to May 31;\n",
    "#Summer runs from June 1 to Aug.31;\n",
    "#Fall (Autumn) runs from September 1st thru Nov.30th and\n",
    "#Winter runs from December 1 to 28 Feb\n",
    "\n",
    "\n",
    "month_seasons = {1: 'winter',\n",
    "                 2: 'winter',\n",
    "                 3: 'spring',\n",
    "                 4: 'spring',\n",
    "                 5: 'spring',\n",
    "                 6: 'summer',\n",
    "                 7: 'summer',\n",
    "                 8: 'summer',\n",
    "                 9: 'fall',\n",
    "                 10: 'fall',\n",
    "                 11: 'fall',\n",
    "                 12: 'winter'}\n",
    "\n",
    "accidents_df['seasons'] = pd.to_datetime(accidents_df['Start_Time']).dt.month.map(month_seasons)\n",
    "accidents_df.tail(50000)"
   ]
  },
  {
   "cell_type": "code",
   "execution_count": null,
   "metadata": {},
   "outputs": [],
   "source": [
    "#Create DataFrame to group number of accidents per season\n",
    "# separate season data into bins\n",
    "# Create Two bins for 'Winter' for being both at the beginning and end of the year.\n",
    "\n",
    "season_group = accidents_df.groupby(['seasons'])\n",
    "\n",
    "\n",
    "season_group = season_group['ID'].count().plot.bar(rot=\"vertical\", title=\"Number of Accidents by season\", legend=False)\n",
    "season_group.set_ylabel(\"Number of Accidents\")\n",
    "\n",
    "\n",
    "\n"
   ]
  },
  {
   "cell_type": "code",
   "execution_count": null,
   "metadata": {},
   "outputs": [],
   "source": [
    "# Ken's code ends here"
   ]
  },
  {
   "cell_type": "code",
   "execution_count": null,
   "metadata": {},
   "outputs": [],
   "source": [
    "# Eric's code starts here"
   ]
  },
  {
   "cell_type": "code",
   "execution_count": null,
   "metadata": {},
   "outputs": [],
   "source": [
    "# Eric's code ends here"
   ]
  }
 ],
 "metadata": {
  "kernelspec": {
   "display_name": "Python 3",
   "language": "python",
   "name": "python3"
  },
  "language_info": {
   "codemirror_mode": {
    "name": "ipython",
    "version": 3
   },
   "file_extension": ".py",
   "mimetype": "text/x-python",
   "name": "python",
   "nbconvert_exporter": "python",
   "pygments_lexer": "ipython3",
   "version": "3.6.10"
  }
 },
 "nbformat": 4,
 "nbformat_minor": 4
}
