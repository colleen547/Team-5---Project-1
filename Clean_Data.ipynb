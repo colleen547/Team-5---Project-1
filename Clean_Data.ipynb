{
 "cells": [
  {
   "cell_type": "code",
   "execution_count": null,
   "metadata": {},
   "outputs": [],
   "source": [
    "# Dependencies and Setup\n",
    "import pandas as pd\n",
    "from zipfile import ZipFile, ZIP_DEFLATED\n",
    "import os\n",
    "\n",
    "# Dataset is too large to host on github (100MB limit), \n",
    "# download from link below and place zipped file in Resources folder to recreate these steps\n",
    "# https://www.kaggle.com/sobhanmoosavi/us-accidents\n",
    "\n",
    "# get current directory to use absolute file paths\n",
    "current_directory = os.getcwd() \n",
    "\n",
    "# path to zip\n",
    "zip_path = os.path.join(current_directory,\"Resources\",\"199387_1319582_bundle_archive.zip\")\n",
    "\n",
    "# file we care about in the zip\n",
    "file_name = \"US_Accidents_June20.csv\"\n",
    "\n",
    "# output csv path\n",
    "destination = os.path.join(current_directory, \"Resources\", \"US_Accidents_Cleaned.csv\")\n",
    "# output zip path\n",
    "destination_zip = os.path.join(\"Resources\", \"US_Accidents.zip\")\n"
   ]
  },
  {
   "cell_type": "code",
   "execution_count": null,
   "metadata": {},
   "outputs": [],
   "source": [
    "# access zip file\n",
    "with ZipFile(zip_path) as zin:\n",
    "    # read csv\n",
    "    accidents_df = pd.read_csv(zin.open(file_name))\n",
    "\n",
    "drop_columns = ['Source', 'TMC', 'End_Time', 'End_Lat', 'End_Lng', 'Distance(mi)', \n",
    "                'Description', 'Number', 'Street', 'Side', 'Country', 'Timezone', \n",
    "                'Airport_Code', 'Weather_Timestamp', 'Temperature(F)', 'Wind_Chill(F)', \n",
    "                'Humidity(%)', 'Pressure(in)', 'Visibility(mi)', 'Wind_Direction', \n",
    "                'Wind_Speed(mph)', 'Precipitation(in)', 'Weather_Condition', 'Amenity', \n",
    "                'Bump', 'Crossing', 'Give_Way', 'Junction', 'No_Exit', 'Railway', \n",
    "                'Roundabout', 'Station', 'Stop', 'Traffic_Calming', 'Traffic_Signal', \n",
    "                'Turning_Loop', 'Civil_Twilight', 'Nautical_Twilight', 'Astronomical_Twilight']\n",
    "accidents_df = accidents_df.drop(columns=drop_columns)\n",
    "\n",
    "accidents_df.head()"
   ]
  },
  {
   "cell_type": "code",
   "execution_count": null,
   "metadata": {},
   "outputs": [],
   "source": [
    "# change type of Start_Time to datetime\n",
    "accidents_df.Start_Time = pd.to_datetime(accidents_df.Start_Time)\n",
    "\n",
    "# Remove dates after the end of January 2020\n",
    "cutoff_date = pd.to_datetime('2020-02-01 00:00:00')\n",
    "accidents_df = accidents_df.drop(accidents_df[accidents_df.Start_Time >= cutoff_date].index)"
   ]
  },
  {
   "cell_type": "code",
   "execution_count": null,
   "metadata": {},
   "outputs": [],
   "source": [
    "# write csv to Resources\n",
    "accidents_df.to_csv(destination, index=False)"
   ]
  },
  {
   "cell_type": "code",
   "execution_count": null,
   "metadata": {},
   "outputs": [],
   "source": [
    "# Zip up csv\n",
    "with ZipFile(destination_zip, \"w\", ZIP_DEFLATED) as zout:\n",
    "    # write \n",
    "    zout.write(destination, arcname=os.path.split(destination)[1])"
   ]
  },
  {
   "cell_type": "code",
   "execution_count": null,
   "metadata": {},
   "outputs": [],
   "source": [
    "# Delete unzipped csv\n",
    "os.remove(destination)"
   ]
  },
  {
   "cell_type": "code",
   "execution_count": null,
   "metadata": {},
   "outputs": [],
   "source": []
  }
 ],
 "metadata": {
  "kernelspec": {
   "display_name": "Python 3",
   "language": "python",
   "name": "python3"
  },
  "language_info": {
   "codemirror_mode": {
    "name": "ipython",
    "version": 3
   },
   "file_extension": ".py",
   "mimetype": "text/x-python",
   "name": "python",
   "nbconvert_exporter": "python",
   "pygments_lexer": "ipython3",
   "version": "3.6.10"
  }
 },
 "nbformat": 4,
 "nbformat_minor": 4
}
