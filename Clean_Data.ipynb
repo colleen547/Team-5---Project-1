{
 "cells": [
  {
   "cell_type": "code",
   "execution_count": null,
   "metadata": {},
   "outputs": [],
   "source": [
    "# Dependencies and Setup\n",
    "import pandas as pd\n",
    "import numpy as np\n",
    "from zipfile import ZipFile, ZIP_DEFLATED\n",
    "import datetime\n",
    "import os\n",
    "\n",
    "# Dataset is too large to host on github (100MB limit), \n",
    "# download from link below and place zipped file in Resources folder to recreate these steps\n",
    "# https://www.kaggle.com/sobhanmoosavi/us-accidents\n",
    "\n",
    "# get absolute file path\n",
    "current_directory = os.getcwd() \n",
    "path = os.path.join(current_directory,\"Resources\",\"199387_1319582_bundle_archive.zip\")\n",
    "\n",
    "file_name = \"US_Accidents_June20.csv\"\n",
    "\n",
    "destination = os.path.join(current_directory, \"Resources\", \"US_Accidents_Cleaned.csv\")\n",
    "destination_zip = \"US_Accidents.zip\""
   ]
  },
  {
   "cell_type": "code",
   "execution_count": null,
   "metadata": {},
   "outputs": [],
   "source": [
    "# unzip file\n",
    "zin = ZipFile(path)\n",
    "\n",
    "# read csv\n",
    "accidents_df = pd.read_csv(zin.open(file_name))\n",
    "\n",
    "# drop columns\n",
    "drop_columns = ['Source', 'TMC', 'End_Time', 'End_Lat', 'End_Lng', 'Description', \n",
    "                'Distance(mi)', 'Number', 'Street', 'Side', 'Country', 'Timezone', 'Airport_Code', \n",
    "                'Amenity', 'Bump', 'Crossing', 'Give_Way', 'Junction', \n",
    "                'No_Exit', 'Railway', 'Roundabout', 'Station', 'Stop', \n",
    "                'Traffic_Calming', 'Traffic_Signal', 'Turning_Loop', \n",
    "                'Civil_Twilight', 'Nautical_Twilight', 'Astronomical_Twilight']\n",
    "accidents_df = accidents_df.drop(columns=drop_columns)\n",
    "\n",
    "accidents_df.head()"
   ]
  },
  {
   "cell_type": "code",
   "execution_count": null,
   "metadata": {},
   "outputs": [],
   "source": [
    "# change type of Start_Time to datetime\n",
    "accidents_df.Start_Time = pd.to_datetime(accidents_df.Start_Time)"
   ]
  },
  {
   "cell_type": "code",
   "execution_count": null,
   "metadata": {},
   "outputs": [],
   "source": [
    "# Remove dates after the end of January 2020\n",
    "cutoff_date = pd.to_datetime('2020-02-01 00:00:00')\n",
    "accidents_df = accidents_df.drop(accidents_df[accidents_df.Start_Time > cutoff_date].index)\n",
    "accidents_df"
   ]
  },
  {
   "cell_type": "code",
   "execution_count": null,
   "metadata": {},
   "outputs": [],
   "source": [
    "# write csv to Resources\n",
    "accidents_df.to_csv(destination, index=False)\n",
    "\n",
    "# close the initial opened file\n",
    "zin.close()"
   ]
  },
  {
   "cell_type": "code",
   "execution_count": null,
   "metadata": {},
   "outputs": [],
   "source": [
    "# Zip up csv\n",
    "zout = ZipFile(destination_zip, \"w\", ZIP_DEFLATED)\n",
    "zout.write(destination)\n",
    "zout.close()"
   ]
  },
  {
   "cell_type": "code",
   "execution_count": null,
   "metadata": {},
   "outputs": [],
   "source": [
    "# Delete extraneous files"
   ]
  },
  {
   "cell_type": "code",
   "execution_count": null,
   "metadata": {},
   "outputs": [],
   "source": []
  }
 ],
 "metadata": {
  "kernelspec": {
   "display_name": "Python 3",
   "language": "python",
   "name": "python3"
  },
  "language_info": {
   "codemirror_mode": {
    "name": "ipython",
    "version": 3
   },
   "file_extension": ".py",
   "mimetype": "text/x-python",
   "name": "python",
   "nbconvert_exporter": "python",
   "pygments_lexer": "ipython3",
   "version": "3.6.10"
  }
 },
 "nbformat": 4,
 "nbformat_minor": 4
}
