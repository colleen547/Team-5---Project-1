{
 "cells": [
  {
   "cell_type": "code",
   "execution_count": null,
   "metadata": {},
   "outputs": [],
   "source": [
    "# Dependencies and Setup\n",
    "import pandas as pd\n",
    "import os\n",
    "from config import cleaned_csv, destination_zip, col_types\n",
    "\n",
    "# Raw dataset is too large to host on github (100MB limit), \n",
    "# download csv from link below and place zipped file in Resources folder to recreate these steps\n",
    "# https://www.kaggle.com/sobhanmoosavi/us-accidents\n",
    "\n",
    "# path to zip\n",
    "zip_path = os.path.join(\"Resources\",\"199387_1319582_bundle_archive.zip\")"
   ]
  },
  {
   "cell_type": "code",
   "execution_count": null,
   "metadata": {},
   "outputs": [],
   "source": [
    "# read csv in zip pandas automatically selects the csv residing within the zip\n",
    "accidents_df = pd.read_csv(zip_path, \n",
    "                           usecols=col_types.keys(), \n",
    "                           dtype=col_types, \n",
    "                           parse_dates=['Start_Time'],\n",
    "                           infer_datetime_format=True)\n",
    "\n",
    "accidents_df.head()"
   ]
  },
  {
   "cell_type": "code",
   "execution_count": null,
   "metadata": {},
   "outputs": [],
   "source": [
    "# Datset starts on Feb 8 2016, to have data in whole month increments, we start in March 2016.\n",
    "# Datset goes to June 30 2020, to have equal representation of months, we end < March 2020\n",
    "raw_len = len(accidents_df)\n",
    "\n",
    "start_date = pd.to_datetime('2016-03-01 00:00:00')\n",
    "cutoff_date = pd.to_datetime('2020-03-01 00:00:00')\n",
    "\n",
    "# drop rows that are before the start date or after the cutoff date\n",
    "accidents_df = accidents_df.drop(accidents_df[(accidents_df.Start_Time < start_date) | (accidents_df.Start_Time >= cutoff_date)].index)\n",
    "\n",
    "print(f\"\"\"Starting length: {raw_len}\n",
    "Ending length: {len(accidents_df)}\n",
    "Trimmed {raw_len - len(accidents_df)}\n",
    "Start date: {accidents_df.Start_Time.dt.date.min()}, End date: {accidents_df.Start_Time.dt.date.max()}\"\"\")"
   ]
  },
  {
   "cell_type": "code",
   "execution_count": null,
   "metadata": {},
   "outputs": [],
   "source": [
    "# write to csv in zip\n",
    "compression = dict(method='zip',\n",
    "                        archive_name=cleaned_csv)  \n",
    "accidents_df.to_csv(destination_zip, compression=compression)"
   ]
  },
  {
   "cell_type": "code",
   "execution_count": null,
   "metadata": {},
   "outputs": [],
   "source": []
  }
 ],
 "metadata": {
  "kernelspec": {
   "display_name": "Python 3",
   "language": "python",
   "name": "python3"
  },
  "language_info": {
   "codemirror_mode": {
    "name": "ipython",
    "version": 3
   },
   "file_extension": ".py",
   "mimetype": "text/x-python",
   "name": "python",
   "nbconvert_exporter": "python",
   "pygments_lexer": "ipython3",
   "version": "3.6.10"
  }
 },
 "nbformat": 4,
 "nbformat_minor": 4
}
